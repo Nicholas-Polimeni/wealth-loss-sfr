{
 "cells": [
  {
   "cell_type": "markdown",
   "metadata": {},
   "source": [
    "# Clean Data for Analysis"
   ]
  },
  {
   "cell_type": "code",
   "execution_count": 1,
   "metadata": {},
   "outputs": [],
   "source": [
    "import pandas as pd\n",
    "\n",
    "pd.set_option('display.max_columns', 150)\n",
    "pd.options.display.float_format = '{:,.3f}'.format"
   ]
  },
  {
   "cell_type": "code",
   "execution_count": 2,
   "metadata": {},
   "outputs": [],
   "source": [
    "# From process_data.ipynb, we have the following:\n",
    "# geo_parcels: parcel boundaries and cities\n",
    "# digest_full: all digest data where LUC == 101\n",
    "# sales_full: all sales data LUC == 101\n",
    "\n",
    "DATA_PATH = 'output/'\n",
    "geo_parcels = pd.read_csv(DATA_PATH + 'parcels_geo.csv')\n",
    "digest_full = pd.read_parquet(DATA_PATH + 'digest_full.parquet')\n",
    "sales_full = pd.read_parquet(DATA_PATH + 'sales_full.parquet')"
   ]
  },
  {
   "cell_type": "code",
   "execution_count": 3,
   "metadata": {},
   "outputs": [
    {
     "name": "stdout",
     "output_type": "stream",
     "text": [
      "Inflation scalars: {2010: 1.3541306420779364, 2011: 1.3151698039632742, 2012: 1.2926642305564873, 2013: 1.2735390411458536, 2014: 1.2639771391581351, 2015: 1.25482295740408, 2016: 1.2293192286026708, 2017: 1.2039274066622319, 2018: 1.1813615249589027, 2019: 1.1549689851891634, 2020: 1.1394496187719314, 2021: 1.0645440133141082, 2022: 1.0}\n"
     ]
    }
   ],
   "source": [
    "# Adjust diff for inflation, using CPI-U from the\n",
    "# BLS: https://data.bls.gov/timeseries/CUUR0000SA0\n",
    "# Use December CPI for each year as demoninator, and\n",
    "# 2022 December CPI as numerator\n",
    "december_2022_cpi = 296.797\n",
    "december_cpi_year = {\n",
    "    2010: 219.179,\n",
    "    2011: 225.672,\n",
    "    2012: 229.601,\n",
    "    2013: 233.049,\n",
    "    2014: 234.812,\n",
    "    2015: 236.525,\n",
    "    2016: 241.432,\n",
    "    2017: 246.524,\n",
    "    2018: 251.233,\n",
    "    2019: 256.974,\n",
    "    2020: 260.474,\n",
    "    2021: 278.802,\n",
    "    2022: 296.797\n",
    "}\n",
    "inflation_scalar = {x: december_2022_cpi / december_cpi_year[x] for x in december_cpi_year}\n",
    "print(f\"Inflation scalars: {inflation_scalar}\")"
   ]
  },
  {
   "cell_type": "markdown",
   "metadata": {},
   "source": [
    "## Parcel Cleaning\n",
    "- Drop duplicate TAXYR, PARID keys (parcels that contain multiple structures, these are essentially ADUs since we are only looking at single-family); retain only the row with the largest living area square footage (main structure)."
   ]
  },
  {
   "cell_type": "markdown",
   "metadata": {},
   "source": [
    "Only keep one record per parcel per year (building with greatest SF)"
   ]
  },
  {
   "cell_type": "code",
   "execution_count": 4,
   "metadata": {},
   "outputs": [
    {
     "name": "stdout",
     "output_type": "stream",
     "text": [
      "Number of dropped duplicates: 26676\n",
      "Number of total parcels (all years): 2739296\n"
     ]
    }
   ],
   "source": [
    "init_len = len(digest_full)\n",
    "digest_full = digest_full.sort_values(by=\"sqft_living\").drop_duplicates(subset=[\"TAXYR\", \"PARID\"], keep=\"first\")\n",
    "\n",
    "print(f\"Number of dropped duplicates: {init_len - len(digest_full)}\")\n",
    "print(f\"Number of total parcels (all years): {len(digest_full)}\")"
   ]
  },
  {
   "cell_type": "markdown",
   "metadata": {},
   "source": [
    "Drop rows without owner address"
   ]
  },
  {
   "cell_type": "code",
   "execution_count": 5,
   "metadata": {},
   "outputs": [
    {
     "name": "stdout",
     "output_type": "stream",
     "text": [
      "Number of empty addresses dropped: 0\n"
     ]
    }
   ],
   "source": [
    "# Drop rows without an owner address\n",
    "init_len = len(digest_full)\n",
    "digest_full = digest_full[digest_full[\"Owner Adrstr\"] != \"\"]\n",
    "print(f\"Number of empty addresses dropped: {init_len - len(digest_full)}\")"
   ]
  },
  {
   "cell_type": "code",
   "execution_count": 6,
   "metadata": {},
   "outputs": [
    {
     "name": "stdout",
     "output_type": "stream",
     "text": [
      "Total number of unique parcels: 226759\n",
      "Nun parcels without a record for every year in period: 39817\n",
      "\n",
      "Total number of parcels around at start of study period: 205575\n",
      "Num of parcels around at start that don't have an entry for every year: 18633\n"
     ]
    }
   ],
   "source": [
    "count_of_records_parcel = pd.DataFrame(digest_full.groupby(by=\"PARID\")[\"PARID\"].count()).rename(\n",
    "    columns={\"PARID\": \"count_records\"}\n",
    ")\n",
    "print(f\"Total number of unique parcels: {len(count_of_records_parcel)}\")\n",
    "\n",
    "count_missing_a_record = (count_of_records_parcel[\"count_records\"] < 13).sum()\n",
    "print(f\"Nun parcels without a record for every year in period: {count_missing_a_record}\")\n",
    "print(\"\")\n",
    "\n",
    "tot_parcels_begin = digest_full[digest_full[\"TAXYR\"] == 2010].merge(\n",
    "    count_of_records_parcel,\n",
    "    on=\"PARID\",\n",
    "    how=\"inner\"\n",
    ")\n",
    "\n",
    "begin_and_missing = (tot_parcels_begin[\"count_records\"] < 13).sum()\n",
    "tot_count_missing = tot_parcels_begin[\"PARID\"].count() - begin_and_missing\n",
    "print(f\"Total number of parcels around at start of study period: {len(tot_parcels_begin)}\")\n",
    "print(f\"Num of parcels around at start that don't have an entry for every year: {begin_and_missing}\")"
   ]
  },
  {
   "cell_type": "markdown",
   "metadata": {},
   "source": [
    "### Adjust Aprtot for inflation"
   ]
  },
  {
   "cell_type": "code",
   "execution_count": 7,
   "metadata": {},
   "outputs": [
    {
     "data": {
      "text/html": [
       "<div>\n",
       "<style scoped>\n",
       "    .dataframe tbody tr th:only-of-type {\n",
       "        vertical-align: middle;\n",
       "    }\n",
       "\n",
       "    .dataframe tbody tr th {\n",
       "        vertical-align: top;\n",
       "    }\n",
       "\n",
       "    .dataframe thead th {\n",
       "        text-align: right;\n",
       "    }\n",
       "</style>\n",
       "<table border=\"1\" class=\"dataframe\">\n",
       "  <thead>\n",
       "    <tr style=\"text-align: right;\">\n",
       "      <th></th>\n",
       "      <th>TAXYR</th>\n",
       "      <th>Aprtot</th>\n",
       "      <th>Aprtot_adj</th>\n",
       "    </tr>\n",
       "  </thead>\n",
       "  <tbody>\n",
       "    <tr>\n",
       "      <th>1724835</th>\n",
       "      <td>2016</td>\n",
       "      <td>621,300.000</td>\n",
       "      <td>763,776.037</td>\n",
       "    </tr>\n",
       "    <tr>\n",
       "      <th>1664332</th>\n",
       "      <td>2015</td>\n",
       "      <td>363,400.000</td>\n",
       "      <td>456,002.663</td>\n",
       "    </tr>\n",
       "    <tr>\n",
       "      <th>159049</th>\n",
       "      <td>2010</td>\n",
       "      <td>85,000.000</td>\n",
       "      <td>115,101.105</td>\n",
       "    </tr>\n",
       "  </tbody>\n",
       "</table>\n",
       "</div>"
      ],
      "text/plain": [
       "         TAXYR      Aprtot  Aprtot_adj\n",
       "1724835   2016 621,300.000 763,776.037\n",
       "1664332   2015 363,400.000 456,002.663\n",
       "159049    2010  85,000.000 115,101.105"
      ]
     },
     "execution_count": 7,
     "metadata": {},
     "output_type": "execute_result"
    }
   ],
   "source": [
    "digest_full[\"Aprtot_adj\"] = digest_full[\"Aprtot\"] * digest_full[\"TAXYR\"].map(inflation_scalar)\n",
    "digest_full[[\"TAXYR\", \"Aprtot\", \"Aprtot_adj\"]].sample(3)"
   ]
  },
  {
   "cell_type": "markdown",
   "metadata": {},
   "source": [
    "## Sales Cleaning\n",
    "- Drop non-arms length transcations (Saleval codes = D, T, G, 4, 4A, 4B, 4C, 4D, 4E, 6F), price under 1K\n",
    "- Only keep one record when a parcel has been sold twice in one day, with preference for keeping record with Saleval == M. If a parcel had multiple sales in one day, we assume only one of these may have been a market sale and the rest were transfers (manual inspection appears to reveal this).\n",
    "- Replace sales price for multi-parcel sales with sales price / number of parcels in that transcation. Sales price is total transcation value, which includes many parcels for a multi-parcel sale. "
   ]
  },
  {
   "cell_type": "markdown",
   "metadata": {},
   "source": [
    "Saleval code distribution before cleaning"
   ]
  },
  {
   "cell_type": "code",
   "execution_count": 8,
   "metadata": {},
   "outputs": [
    {
     "data": {
      "text/plain": [
       "Saleval\n",
       "0     117330\n",
       "T      36730\n",
       "G      23159\n",
       "5      17287\n",
       "M      13777\n",
       "9      13131\n",
       "3      10205\n",
       "RE      8124\n",
       "4       7015\n",
       "4E      6112\n",
       "Name: count, dtype: Int64"
      ]
     },
     "execution_count": 8,
     "metadata": {},
     "output_type": "execute_result"
    }
   ],
   "source": [
    "sales_full[\"Saleval\"].value_counts().head(10)"
   ]
  },
  {
   "cell_type": "markdown",
   "metadata": {},
   "source": [
    "Drop non-arms length transactions\n",
    "- Saleval codes: D, T, G, 4, 4B, 4C, 6B, 6F\n",
    "- Any remaining sales where sales price is under 1K"
   ]
  },
  {
   "cell_type": "code",
   "execution_count": 9,
   "metadata": {},
   "outputs": [
    {
     "name": "stdout",
     "output_type": "stream",
     "text": [
      "Number of dropped records: 85636\n",
      "Number of total sales records: 189717\n"
     ]
    }
   ],
   "source": [
    "drop_saleval = [\"D\", \"T\", \"G\", \"4\", \"4A\", \"4B\", \"4C\", \"4D\", \"4E\", \"6F\"]\n",
    "init_len = len(sales_full)\n",
    "sales_full[\"Saleval\"] = sales_full[\"Saleval\"].str.strip()\n",
    "sales_full = sales_full[~sales_full[\"Saleval\"].isin(drop_saleval)]\n",
    "sales_full = sales_full[sales_full[\"SALES PRICE\"] > 1000]\n",
    "print(f\"Number of dropped records: {init_len - len(sales_full)}\")\n",
    "print(f\"Number of total sales records: {len(sales_full)}\")"
   ]
  },
  {
   "cell_type": "markdown",
   "metadata": {},
   "source": [
    "Examine rows where PARID and Saledt are identical (e.g. potentially duplicate records)"
   ]
  },
  {
   "cell_type": "code",
   "execution_count": 10,
   "metadata": {},
   "outputs": [
    {
     "data": {
      "text/html": [
       "<div>\n",
       "<style scoped>\n",
       "    .dataframe tbody tr th:only-of-type {\n",
       "        vertical-align: middle;\n",
       "    }\n",
       "\n",
       "    .dataframe tbody tr th {\n",
       "        vertical-align: top;\n",
       "    }\n",
       "\n",
       "    .dataframe thead th {\n",
       "        text-align: right;\n",
       "    }\n",
       "</style>\n",
       "<table border=\"1\" class=\"dataframe\">\n",
       "  <thead>\n",
       "    <tr style=\"text-align: right;\">\n",
       "      <th></th>\n",
       "      <th>TAXYR</th>\n",
       "      <th>PARID</th>\n",
       "      <th>Luc</th>\n",
       "      <th>Saledt</th>\n",
       "      <th>SALES PRICE</th>\n",
       "      <th>FAIR MARKET VALUE</th>\n",
       "      <th>DEED TYPE</th>\n",
       "      <th>Costval</th>\n",
       "      <th>Saleval</th>\n",
       "      <th>GRANTOR</th>\n",
       "      <th>GRANTEE</th>\n",
       "    </tr>\n",
       "  </thead>\n",
       "  <tbody>\n",
       "    <tr>\n",
       "      <th>26787</th>\n",
       "      <td>2012</td>\n",
       "      <td>06 031200020099</td>\n",
       "      <td>101</td>\n",
       "      <td>03-MAY-2011</td>\n",
       "      <td>192,400.000</td>\n",
       "      <td>85,700.000</td>\n",
       "      <td>DP</td>\n",
       "      <td>85700</td>\n",
       "      <td>5</td>\n",
       "      <td>MATASSINO JOSEPH A JR</td>\n",
       "      <td>PNC BANK N A</td>\n",
       "    </tr>\n",
       "    <tr>\n",
       "      <th>26788</th>\n",
       "      <td>2012</td>\n",
       "      <td>06 031200020099</td>\n",
       "      <td>101</td>\n",
       "      <td>03-MAY-2011</td>\n",
       "      <td>192,400.000</td>\n",
       "      <td>85,700.000</td>\n",
       "      <td>SW</td>\n",
       "      <td>85700</td>\n",
       "      <td>2</td>\n",
       "      <td>PNC BANK N A</td>\n",
       "      <td>FEDERAL HOME LOAN MORTGAGE CORP</td>\n",
       "    </tr>\n",
       "  </tbody>\n",
       "</table>\n",
       "</div>"
      ],
      "text/plain": [
       "       TAXYR            PARID  Luc       Saledt  SALES PRICE  \\\n",
       "26787   2012  06 031200020099  101  03-MAY-2011  192,400.000   \n",
       "26788   2012  06 031200020099  101  03-MAY-2011  192,400.000   \n",
       "\n",
       "       FAIR MARKET VALUE DEED TYPE Costval Saleval                GRANTOR  \\\n",
       "26787         85,700.000        DP   85700       5  MATASSINO JOSEPH A JR   \n",
       "26788         85,700.000        SW   85700       2           PNC BANK N A   \n",
       "\n",
       "                               GRANTEE  \n",
       "26787                     PNC BANK N A  \n",
       "26788  FEDERAL HOME LOAN MORTGAGE CORP  "
      ]
     },
     "execution_count": 10,
     "metadata": {},
     "output_type": "execute_result"
    }
   ],
   "source": [
    "sales_full[sales_full[\"PARID\"] == \"06 031200020099\"]"
   ]
  },
  {
   "cell_type": "markdown",
   "metadata": {},
   "source": [
    "Only keep one record where PARID and Saledt. Priority to keep record where Saleval == M.\n",
    "\n",
    "If a sale happened for the same parcel twice in one day, the assumption that the second sale is non-arms length (e.g. a transfer to some other entity)"
   ]
  },
  {
   "cell_type": "code",
   "execution_count": 11,
   "metadata": {},
   "outputs": [
    {
     "name": "stdout",
     "output_type": "stream",
     "text": [
      "Count dropped where sale was identical except for Saleval:  7679\n"
     ]
    }
   ],
   "source": [
    "init_len = len(sales_full)\n",
    "\n",
    "# Sort values to keep records where Saleval is M first (in the case of duplicates being dropped)\n",
    "sales_full[\"M_flag\"] = sales_full[\"Saleval\"].apply(lambda x: True if x == \"M\" else False)\n",
    "sales_full = sales_full.sort_values(by=[\"M_flag\"], ascending=False)\n",
    "sales_full = sales_full.drop_duplicates(subset=[\"PARID\", \"Saledt\"], keep=\"first\")\n",
    "\n",
    "print(\"Count dropped where sale was identical except for Saleval: \", init_len - len(sales_full))"
   ]
  },
  {
   "cell_type": "markdown",
   "metadata": {},
   "source": [
    "For multi-parcel sales, the sales price needs to be replaced with sales price divided by number of parcels in the transcation. We consider a record as part of the same multi-parcel sale when Saleval flag == M, Saledt, GRANTEE, and Sales Price are the same.\n",
    "\n",
    "Drop any records where Saleval == M but there is only one record in that transcation. This indicates it might've been a multi-parcel sale with parcels located outside of Fulton. We do not have complete records for these, and they are an negligible total."
   ]
  },
  {
   "cell_type": "code",
   "execution_count": 12,
   "metadata": {},
   "outputs": [
    {
     "name": "stdout",
     "output_type": "stream",
     "text": [
      "Number of invalid multi-parcel sales dropped: 1346\n"
     ]
    }
   ],
   "source": [
    "sales_full['sale_size'] = sales_full.groupby(by=[\"Saledt\", \"SALES PRICE\", \"GRANTEE\"])[\"PARID\"].transform('count')\n",
    "sales_full[\"sales_price\"] = sales_full[\"SALES PRICE\"] / sales_full['sale_size']\n",
    "\n",
    "init_len = len(sales_full)\n",
    "sales_full = sales_full[~((sales_full[\"Saleval\"] == \"M\") & (sales_full[\"sale_size\"] == 1))]\n",
    "print(f\"Number of invalid multi-parcel sales dropped: {init_len - len(sales_full)}\")"
   ]
  },
  {
   "cell_type": "markdown",
   "metadata": {},
   "source": [
    "Verify multi-parcel sale calculation"
   ]
  },
  {
   "cell_type": "code",
   "execution_count": 13,
   "metadata": {},
   "outputs": [
    {
     "data": {
      "text/html": [
       "<div>\n",
       "<style scoped>\n",
       "    .dataframe tbody tr th:only-of-type {\n",
       "        vertical-align: middle;\n",
       "    }\n",
       "\n",
       "    .dataframe tbody tr th {\n",
       "        vertical-align: top;\n",
       "    }\n",
       "\n",
       "    .dataframe thead th {\n",
       "        text-align: right;\n",
       "    }\n",
       "</style>\n",
       "<table border=\"1\" class=\"dataframe\">\n",
       "  <thead>\n",
       "    <tr style=\"text-align: right;\">\n",
       "      <th></th>\n",
       "      <th>TAXYR</th>\n",
       "      <th>PARID</th>\n",
       "      <th>Luc</th>\n",
       "      <th>Saledt</th>\n",
       "      <th>SALES PRICE</th>\n",
       "      <th>FAIR MARKET VALUE</th>\n",
       "      <th>DEED TYPE</th>\n",
       "      <th>Costval</th>\n",
       "      <th>Saleval</th>\n",
       "      <th>GRANTOR</th>\n",
       "      <th>GRANTEE</th>\n",
       "      <th>M_flag</th>\n",
       "      <th>sale_size</th>\n",
       "      <th>sales_price</th>\n",
       "    </tr>\n",
       "  </thead>\n",
       "  <tbody>\n",
       "    <tr>\n",
       "      <th>87024</th>\n",
       "      <td>2014</td>\n",
       "      <td>22 511010401008</td>\n",
       "      <td>101</td>\n",
       "      <td>09-AUG-2013</td>\n",
       "      <td>200,000.000</td>\n",
       "      <td>183,100.000</td>\n",
       "      <td>WD</td>\n",
       "      <td>183,100</td>\n",
       "      <td>0</td>\n",
       "      <td>MILLER MARY</td>\n",
       "      <td>COLE SHARON C</td>\n",
       "      <td>False</td>\n",
       "      <td>1</td>\n",
       "      <td>200,000.000</td>\n",
       "    </tr>\n",
       "    <tr>\n",
       "      <th>126205</th>\n",
       "      <td>2017</td>\n",
       "      <td>22 473106220158</td>\n",
       "      <td>101</td>\n",
       "      <td>04-JAN-2016</td>\n",
       "      <td>400,000.000</td>\n",
       "      <td>222,400.000</td>\n",
       "      <td>LW</td>\n",
       "      <td>256,100</td>\n",
       "      <td>3</td>\n",
       "      <td>DASHER ROBIN L</td>\n",
       "      <td>SPOLZINO RICHARD DAVID &amp;</td>\n",
       "      <td>False</td>\n",
       "      <td>1</td>\n",
       "      <td>400,000.000</td>\n",
       "    </tr>\n",
       "  </tbody>\n",
       "</table>\n",
       "</div>"
      ],
      "text/plain": [
       "        TAXYR            PARID  Luc       Saledt  SALES PRICE  \\\n",
       "87024    2014  22 511010401008  101  09-AUG-2013  200,000.000   \n",
       "126205   2017  22 473106220158  101  04-JAN-2016  400,000.000   \n",
       "\n",
       "        FAIR MARKET VALUE DEED TYPE  Costval Saleval         GRANTOR  \\\n",
       "87024         183,100.000        WD  183,100       0     MILLER MARY   \n",
       "126205        222,400.000        LW  256,100       3  DASHER ROBIN L   \n",
       "\n",
       "                         GRANTEE  M_flag  sale_size  sales_price  \n",
       "87024              COLE SHARON C   False          1  200,000.000  \n",
       "126205  SPOLZINO RICHARD DAVID &   False          1  400,000.000  "
      ]
     },
     "execution_count": 13,
     "metadata": {},
     "output_type": "execute_result"
    }
   ],
   "source": [
    "sales_full[sales_full[\"Saleval\"] != \"M\"].sample(2)"
   ]
  },
  {
   "cell_type": "code",
   "execution_count": 14,
   "metadata": {},
   "outputs": [
    {
     "data": {
      "text/html": [
       "<div>\n",
       "<style scoped>\n",
       "    .dataframe tbody tr th:only-of-type {\n",
       "        vertical-align: middle;\n",
       "    }\n",
       "\n",
       "    .dataframe tbody tr th {\n",
       "        vertical-align: top;\n",
       "    }\n",
       "\n",
       "    .dataframe thead th {\n",
       "        text-align: right;\n",
       "    }\n",
       "</style>\n",
       "<table border=\"1\" class=\"dataframe\">\n",
       "  <thead>\n",
       "    <tr style=\"text-align: right;\">\n",
       "      <th></th>\n",
       "      <th>TAXYR</th>\n",
       "      <th>PARID</th>\n",
       "      <th>Luc</th>\n",
       "      <th>Saledt</th>\n",
       "      <th>SALES PRICE</th>\n",
       "      <th>FAIR MARKET VALUE</th>\n",
       "      <th>DEED TYPE</th>\n",
       "      <th>Costval</th>\n",
       "      <th>Saleval</th>\n",
       "      <th>GRANTOR</th>\n",
       "      <th>GRANTEE</th>\n",
       "      <th>M_flag</th>\n",
       "      <th>sale_size</th>\n",
       "      <th>sales_price</th>\n",
       "    </tr>\n",
       "  </thead>\n",
       "  <tbody>\n",
       "    <tr>\n",
       "      <th>144775</th>\n",
       "      <td>2018</td>\n",
       "      <td>14 019400070695</td>\n",
       "      <td>101</td>\n",
       "      <td>06-APR-2017</td>\n",
       "      <td>132,000.000</td>\n",
       "      <td>257,500.000</td>\n",
       "      <td>LW</td>\n",
       "      <td>257,500</td>\n",
       "      <td>M</td>\n",
       "      <td>FAIRVIEW VENTURES LLC</td>\n",
       "      <td>D R HORTON CROWN LLC</td>\n",
       "      <td>True</td>\n",
       "      <td>3</td>\n",
       "      <td>44,000.000</td>\n",
       "    </tr>\n",
       "    <tr>\n",
       "      <th>253976</th>\n",
       "      <td>2022</td>\n",
       "      <td>13 016100050391</td>\n",
       "      <td>101</td>\n",
       "      <td>23-JUN-2021</td>\n",
       "      <td>3,036,993.000</td>\n",
       "      <td>166,800.000</td>\n",
       "      <td>LW</td>\n",
       "      <td>195,400</td>\n",
       "      <td>M</td>\n",
       "      <td>ATL 2 SF LLC</td>\n",
       "      <td>ATL 2 SF LLC</td>\n",
       "      <td>True</td>\n",
       "      <td>11</td>\n",
       "      <td>276,090.273</td>\n",
       "    </tr>\n",
       "  </tbody>\n",
       "</table>\n",
       "</div>"
      ],
      "text/plain": [
       "        TAXYR            PARID  Luc       Saledt   SALES PRICE  \\\n",
       "144775   2018  14 019400070695  101  06-APR-2017   132,000.000   \n",
       "253976   2022  13 016100050391  101  23-JUN-2021 3,036,993.000   \n",
       "\n",
       "        FAIR MARKET VALUE DEED TYPE  Costval Saleval                GRANTOR  \\\n",
       "144775        257,500.000        LW  257,500       M  FAIRVIEW VENTURES LLC   \n",
       "253976        166,800.000        LW  195,400       M           ATL 2 SF LLC   \n",
       "\n",
       "                     GRANTEE  M_flag  sale_size  sales_price  \n",
       "144775  D R HORTON CROWN LLC    True          3   44,000.000  \n",
       "253976          ATL 2 SF LLC    True         11  276,090.273  "
      ]
     },
     "execution_count": 14,
     "metadata": {},
     "output_type": "execute_result"
    }
   ],
   "source": [
    "sales_full[sales_full[\"Saleval\"] == \"M\"].sample(2)"
   ]
  },
  {
   "cell_type": "code",
   "execution_count": 15,
   "metadata": {},
   "outputs": [
    {
     "data": {
      "text/html": [
       "<div>\n",
       "<style scoped>\n",
       "    .dataframe tbody tr th:only-of-type {\n",
       "        vertical-align: middle;\n",
       "    }\n",
       "\n",
       "    .dataframe tbody tr th {\n",
       "        vertical-align: top;\n",
       "    }\n",
       "\n",
       "    .dataframe thead th {\n",
       "        text-align: right;\n",
       "    }\n",
       "</style>\n",
       "<table border=\"1\" class=\"dataframe\">\n",
       "  <thead>\n",
       "    <tr style=\"text-align: right;\">\n",
       "      <th></th>\n",
       "      <th>TAXYR</th>\n",
       "      <th>PARID</th>\n",
       "      <th>Luc</th>\n",
       "      <th>Saledt</th>\n",
       "      <th>SALES PRICE</th>\n",
       "      <th>FAIR MARKET VALUE</th>\n",
       "      <th>DEED TYPE</th>\n",
       "      <th>Costval</th>\n",
       "      <th>Saleval</th>\n",
       "      <th>GRANTOR</th>\n",
       "      <th>GRANTEE</th>\n",
       "      <th>M_flag</th>\n",
       "      <th>sale_size</th>\n",
       "      <th>sales_price</th>\n",
       "    </tr>\n",
       "  </thead>\n",
       "  <tbody>\n",
       "    <tr>\n",
       "      <th>137527</th>\n",
       "      <td>2018</td>\n",
       "      <td>14 003700010056</td>\n",
       "      <td>101</td>\n",
       "      <td>10-MAY-2017</td>\n",
       "      <td>265,500.000</td>\n",
       "      <td>33,000.000</td>\n",
       "      <td>WD</td>\n",
       "      <td>33,000</td>\n",
       "      <td>M</td>\n",
       "      <td>GCM SOUTHEASTERN LLC</td>\n",
       "      <td>BUDGET HOME RENTALS LLC</td>\n",
       "      <td>True</td>\n",
       "      <td>5</td>\n",
       "      <td>53,100.000</td>\n",
       "    </tr>\n",
       "    <tr>\n",
       "      <th>138501</th>\n",
       "      <td>2018</td>\n",
       "      <td>14 006000030336</td>\n",
       "      <td>101</td>\n",
       "      <td>10-MAY-2017</td>\n",
       "      <td>265,500.000</td>\n",
       "      <td>43,900.000</td>\n",
       "      <td>WD</td>\n",
       "      <td>43,900</td>\n",
       "      <td>M</td>\n",
       "      <td>GCM SOUTHEASTERN LLC</td>\n",
       "      <td>BUDGET HOME RENTALS LLC</td>\n",
       "      <td>True</td>\n",
       "      <td>5</td>\n",
       "      <td>53,100.000</td>\n",
       "    </tr>\n",
       "    <tr>\n",
       "      <th>137567</th>\n",
       "      <td>2018</td>\n",
       "      <td>14 003800030772</td>\n",
       "      <td>101</td>\n",
       "      <td>10-MAY-2017</td>\n",
       "      <td>265,500.000</td>\n",
       "      <td>43,700.000</td>\n",
       "      <td>WD</td>\n",
       "      <td>43,700</td>\n",
       "      <td>M</td>\n",
       "      <td>GCM SOUTHEASTERN LLC</td>\n",
       "      <td>BUDGET HOME RENTALS LLC</td>\n",
       "      <td>True</td>\n",
       "      <td>5</td>\n",
       "      <td>53,100.000</td>\n",
       "    </tr>\n",
       "    <tr>\n",
       "      <th>137576</th>\n",
       "      <td>2018</td>\n",
       "      <td>14 003800040292</td>\n",
       "      <td>101</td>\n",
       "      <td>10-MAY-2017</td>\n",
       "      <td>265,500.000</td>\n",
       "      <td>46,000.000</td>\n",
       "      <td>WD</td>\n",
       "      <td>46,000</td>\n",
       "      <td>M</td>\n",
       "      <td>GCM SOUTHEASTERN LLC</td>\n",
       "      <td>BUDGET HOME RENTALS LLC</td>\n",
       "      <td>True</td>\n",
       "      <td>5</td>\n",
       "      <td>53,100.000</td>\n",
       "    </tr>\n",
       "    <tr>\n",
       "      <th>137586</th>\n",
       "      <td>2018</td>\n",
       "      <td>14 003800050192</td>\n",
       "      <td>101</td>\n",
       "      <td>10-MAY-2017</td>\n",
       "      <td>265,500.000</td>\n",
       "      <td>34,800.000</td>\n",
       "      <td>WD</td>\n",
       "      <td>34,800</td>\n",
       "      <td>M</td>\n",
       "      <td>GCM SOUTHEASTERN LLC</td>\n",
       "      <td>BUDGET HOME RENTALS LLC</td>\n",
       "      <td>True</td>\n",
       "      <td>5</td>\n",
       "      <td>53,100.000</td>\n",
       "    </tr>\n",
       "  </tbody>\n",
       "</table>\n",
       "</div>"
      ],
      "text/plain": [
       "        TAXYR            PARID  Luc       Saledt  SALES PRICE  \\\n",
       "137527   2018  14 003700010056  101  10-MAY-2017  265,500.000   \n",
       "138501   2018  14 006000030336  101  10-MAY-2017  265,500.000   \n",
       "137567   2018  14 003800030772  101  10-MAY-2017  265,500.000   \n",
       "137576   2018  14 003800040292  101  10-MAY-2017  265,500.000   \n",
       "137586   2018  14 003800050192  101  10-MAY-2017  265,500.000   \n",
       "\n",
       "        FAIR MARKET VALUE DEED TYPE Costval Saleval               GRANTOR  \\\n",
       "137527         33,000.000        WD  33,000       M  GCM SOUTHEASTERN LLC   \n",
       "138501         43,900.000        WD  43,900       M  GCM SOUTHEASTERN LLC   \n",
       "137567         43,700.000        WD  43,700       M  GCM SOUTHEASTERN LLC   \n",
       "137576         46,000.000        WD  46,000       M  GCM SOUTHEASTERN LLC   \n",
       "137586         34,800.000        WD  34,800       M  GCM SOUTHEASTERN LLC   \n",
       "\n",
       "                        GRANTEE  M_flag  sale_size  sales_price  \n",
       "137527  BUDGET HOME RENTALS LLC    True          5   53,100.000  \n",
       "138501  BUDGET HOME RENTALS LLC    True          5   53,100.000  \n",
       "137567  BUDGET HOME RENTALS LLC    True          5   53,100.000  \n",
       "137576  BUDGET HOME RENTALS LLC    True          5   53,100.000  \n",
       "137586  BUDGET HOME RENTALS LLC    True          5   53,100.000  "
      ]
     },
     "execution_count": 15,
     "metadata": {},
     "output_type": "execute_result"
    }
   ],
   "source": [
    "sales_full[\n",
    "    (sales_full[\"Saledt\"] == \"10-MAY-2017\")\n",
    "    & (sales_full[\"SALES PRICE\"] == 265500)\n",
    "]"
   ]
  },
  {
   "cell_type": "markdown",
   "metadata": {},
   "source": [
    "Saleval codes after cleaning"
   ]
  },
  {
   "cell_type": "code",
   "execution_count": 16,
   "metadata": {},
   "outputs": [
    {
     "name": "stdout",
     "output_type": "stream",
     "text": [
      "Number of total sales records: 180692\n"
     ]
    },
    {
     "data": {
      "text/plain": [
       "Saleval\n",
       "0     116433\n",
       "9      12515\n",
       "5      11706\n",
       "3       9586\n",
       "RE      8034\n",
       "M       6491\n",
       "2       4642\n",
       "W       3515\n",
       "6       1165\n",
       "5A      1134\n",
       "Name: Saleval, dtype: int64"
      ]
     },
     "execution_count": 16,
     "metadata": {},
     "output_type": "execute_result"
    }
   ],
   "source": [
    "print(f\"Number of total sales records: {len(sales_full)}\")\n",
    "sales_full.groupby(\"Saleval\")[\"Saleval\"].count().sort_values(ascending=False).head(10)"
   ]
  },
  {
   "cell_type": "markdown",
   "metadata": {},
   "source": [
    "### Adjust sales price, fmv for inflation"
   ]
  },
  {
   "cell_type": "code",
   "execution_count": 17,
   "metadata": {},
   "outputs": [
    {
     "data": {
      "text/html": [
       "<div>\n",
       "<style scoped>\n",
       "    .dataframe tbody tr th:only-of-type {\n",
       "        vertical-align: middle;\n",
       "    }\n",
       "\n",
       "    .dataframe tbody tr th {\n",
       "        vertical-align: top;\n",
       "    }\n",
       "\n",
       "    .dataframe thead th {\n",
       "        text-align: right;\n",
       "    }\n",
       "</style>\n",
       "<table border=\"1\" class=\"dataframe\">\n",
       "  <thead>\n",
       "    <tr style=\"text-align: right;\">\n",
       "      <th></th>\n",
       "      <th>TAXYR</th>\n",
       "      <th>sales_price</th>\n",
       "      <th>price_adj</th>\n",
       "      <th>FAIR MARKET VALUE</th>\n",
       "      <th>fmv_adj</th>\n",
       "    </tr>\n",
       "  </thead>\n",
       "  <tbody>\n",
       "    <tr>\n",
       "      <th>131101</th>\n",
       "      <td>2018</td>\n",
       "      <td>297,000.000</td>\n",
       "      <td>357,566.440</td>\n",
       "      <td>265,600.000</td>\n",
       "      <td>319,763.119</td>\n",
       "    </tr>\n",
       "    <tr>\n",
       "      <th>114186</th>\n",
       "      <td>2017</td>\n",
       "      <td>72,460.000</td>\n",
       "      <td>89,076.471</td>\n",
       "      <td>181,200.000</td>\n",
       "      <td>222,752.644</td>\n",
       "    </tr>\n",
       "    <tr>\n",
       "      <th>145778</th>\n",
       "      <td>2018</td>\n",
       "      <td>96,439.000</td>\n",
       "      <td>116,105.555</td>\n",
       "      <td>73,800.000</td>\n",
       "      <td>88,849.843</td>\n",
       "    </tr>\n",
       "  </tbody>\n",
       "</table>\n",
       "</div>"
      ],
      "text/plain": [
       "        TAXYR  sales_price   price_adj  FAIR MARKET VALUE     fmv_adj\n",
       "131101   2018  297,000.000 357,566.440        265,600.000 319,763.119\n",
       "114186   2017   72,460.000  89,076.471        181,200.000 222,752.644\n",
       "145778   2018   96,439.000 116,105.555         73,800.000  88,849.843"
      ]
     },
     "execution_count": 17,
     "metadata": {},
     "output_type": "execute_result"
    }
   ],
   "source": [
    "sales_full[\"price_adj\"] = sales_full[\"sales_price\"] * (sales_full[\"TAXYR\"] - 1).map(inflation_scalar)\n",
    "sales_full[\"fmv_adj\"] = sales_full[\"FAIR MARKET VALUE\"] * (sales_full[\"TAXYR\"] - 1).map(inflation_scalar)\n",
    "sales_full[[\"TAXYR\", \"sales_price\", \"price_adj\", \"FAIR MARKET VALUE\", \"fmv_adj\"]].sample(3)"
   ]
  },
  {
   "cell_type": "markdown",
   "metadata": {},
   "source": [
    "## Save"
   ]
  },
  {
   "cell_type": "code",
   "execution_count": 18,
   "metadata": {},
   "outputs": [],
   "source": [
    "OUTPUT_PATH = 'output/'\n",
    "\n",
    "digest_full.to_parquet(OUTPUT_PATH + 'digest_full_clean.parquet')\n",
    "sales_full.to_parquet(OUTPUT_PATH + 'sales_full_clean.parquet')"
   ]
  }
 ],
 "metadata": {
  "kernelspec": {
   "display_name": "equity-extraction",
   "language": "python",
   "name": "python3"
  },
  "language_info": {
   "codemirror_mode": {
    "name": "ipython",
    "version": 3
   },
   "file_extension": ".py",
   "mimetype": "text/x-python",
   "name": "python",
   "nbconvert_exporter": "python",
   "pygments_lexer": "ipython3",
   "version": "3.12.2"
  }
 },
 "nbformat": 4,
 "nbformat_minor": 2
}
